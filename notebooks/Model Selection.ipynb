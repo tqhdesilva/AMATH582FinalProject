{
 "cells": [
  {
   "cell_type": "code",
   "execution_count": 12,
   "metadata": {},
   "outputs": [],
   "source": [
    "import numpy as np\n",
    "import pandas as pd\n",
    "from sklearn.model_selection import cross_validate\n",
    "from imblearn.pipeline import make_pipeline\n",
    "from imblearn.under_sampling import RandomUnderSampler\n",
    "from sklearn.metrics import matthews_corrcoef, precision_score, recall_score, make_scorer\n",
    "from imblearn.over_sampling import SMOTE\n",
    "from joblib import dump"
   ]
  },
  {
   "cell_type": "code",
   "execution_count": 18,
   "metadata": {},
   "outputs": [],
   "source": [
    "from sklearn.preprocessing import StandardScaler\n",
    "from sklearn.decomposition import PCA"
   ]
  },
  {
   "cell_type": "code",
   "execution_count": 8,
   "metadata": {},
   "outputs": [],
   "source": [
    "# the classifiers we'll try\n",
    "from sklearn.linear_model import LogisticRegression\n",
    "from sklearn.svm import SVC\n",
    "from sklearn.ensemble import GradientBoostingClassifier\n",
    "from sklearn.neighbors import KNeighborsClassifier"
   ]
  },
  {
   "cell_type": "code",
   "execution_count": 4,
   "metadata": {},
   "outputs": [],
   "source": [
    "import sys\n",
    "sys.path.append(\"..\")\n",
    "from pipeline import pre_pipeline"
   ]
  },
  {
   "cell_type": "code",
   "execution_count": 2,
   "metadata": {},
   "outputs": [],
   "source": [
    "train_wavelets = np.load(\"../data/preprocessed/train.npy\")\n",
    "train_meta = pd.read_csv(\n",
    "    \"../data/vsb-power-line-fault-detection/metadata_train.csv\",\n",
    "    index_col=\"signal_id\",\n",
    ")"
   ]
  },
  {
   "cell_type": "code",
   "execution_count": 3,
   "metadata": {},
   "outputs": [],
   "source": [
    "x = train_wavelets.T\n",
    "y = train_meta.target.values"
   ]
  },
  {
   "cell_type": "code",
   "execution_count": 35,
   "metadata": {},
   "outputs": [
    {
     "data": {
      "text/plain": [
       "{'fit_time': array([122.24217224, 121.94515896, 122.94566202, 122.93026805,\n",
       "        122.97139025]),\n",
       " 'score_time': array([1.45846677, 1.75756097, 1.42823792, 1.41776299, 1.431777  ]),\n",
       " 'test_mcc': array([0.16400168, 0.        , 0.        , 0.        , 0.        ]),\n",
       " 'train_mcc': array([0.        , 0.11591517, 0.06690475, 0.06690475, 0.1159157 ]),\n",
       " 'test_precision': array([1., 0., 0., 0., 0.]),\n",
       " 'train_precision': array([0., 1., 1., 1., 1.]),\n",
       " 'test_recall': array([0.02857143, 0.        , 0.        , 0.        , 0.        ]),\n",
       " 'train_recall': array([0.        , 0.01428571, 0.0047619 , 0.0047619 , 0.01428571])}"
      ]
     },
     "execution_count": 35,
     "metadata": {},
     "output_type": "execute_result"
    }
   ],
   "source": [
    "# regular old logistic regression\n",
    "logreg_pipe = make_pipeline(\n",
    "    StandardScaler(),\n",
    "    PCA(n_components=117),\n",
    "    LogisticRegression(max_iter=1000),\n",
    ")\n",
    "scores = cross_validate(\n",
    "    logreg_pipe,\n",
    "    x,\n",
    "    y,\n",
    "    cv=5,\n",
    "    scoring={\n",
    "        \"mcc\": make_scorer(matthews_corrcoef),\n",
    "        \"precision\": make_scorer(precision_score),\n",
    "        \"recall\": make_scorer(recall_score)\n",
    "    },\n",
    "    return_train_score=True,\n",
    "    n_jobs=-1)\n",
    "scores"
   ]
  },
  {
   "cell_type": "code",
   "execution_count": 34,
   "metadata": {},
   "outputs": [
    {
     "data": {
      "text/plain": [
       "{'fit_time': array([109.65180993, 112.22011209, 114.78355002, 116.50059891,\n",
       "        109.98276973]),\n",
       " 'score_time': array([2.58175516, 1.74244189, 1.59548402, 1.30442715, 2.11000299]),\n",
       " 'test_mcc': array([ 0.00624308, -0.02956371,  0.02489893,  0.00477819,  0.00992236]),\n",
       " 'train_mcc': array([0.03179565, 0.04279495, 0.02562474, 0.04220668, 0.03469203]),\n",
       " 'test_precision': array([0.06186869, 0.05228758, 0.06675063, 0.06153846, 0.06290116]),\n",
       " 'train_precision': array([0.0685624 , 0.07154264, 0.06694032, 0.07124842, 0.06932574]),\n",
       " 'test_recall': array([0.46666667, 0.38095238, 0.5047619 , 0.45714286, 0.46666667]),\n",
       " 'train_recall': array([0.51666667, 0.53333333, 0.5047619 , 0.53809524, 0.52142857])}"
      ]
     },
     "execution_count": 34,
     "metadata": {},
     "output_type": "execute_result"
    }
   ],
   "source": [
    "# logistic regression with oversampling of minority class\n",
    "logreg_smote_pipe = make_pipeline(\n",
    "    StandardScaler(),\n",
    "    StandardScaler(),\n",
    "    PCA(n_components=117),\n",
    "    SMOTE(),\n",
    "    LogisticRegression(max_iter=1000)\n",
    ")\n",
    "scores = cross_validate(\n",
    "    logreg_smote_pipe,\n",
    "    x,\n",
    "    y,\n",
    "    cv=5,\n",
    "    scoring={\n",
    "        \"mcc\": make_scorer(matthews_corrcoef),\n",
    "        \"precision\": make_scorer(precision_score),\n",
    "        \"recall\": make_scorer(recall_score)\n",
    "    },\n",
    "    return_train_score=True,\n",
    "    n_jobs=-1)\n",
    "scores"
   ]
  },
  {
   "cell_type": "code",
   "execution_count": 37,
   "metadata": {},
   "outputs": [
    {
     "data": {
      "text/plain": [
       "{'fit_time': array([121.28158903, 120.66528726, 123.55399609, 123.60228705,\n",
       "        123.04901814]),\n",
       " 'score_time': array([2.46837187, 2.96796179, 1.62382293, 1.65613389, 2.08885789]),\n",
       " 'test_mcc': array([-0.00797612,  0.02552003,  0.0004757 ,  0.01715315,  0.03106988]),\n",
       " 'train_mcc': array([0.02388203, 0.04910987, 0.03206789, 0.02160188, 0.02594391]),\n",
       " 'test_precision': array([0.05858586, 0.06552419, 0.06037001, 0.06391753, 0.0666004 ]),\n",
       " 'train_precision': array([0.06517924, 0.07045455, 0.06665039, 0.06477013, 0.06542969]),\n",
       " 'test_recall': array([0.55238095, 0.61904762, 0.59047619, 0.59047619, 0.63809524]),\n",
       " 'train_recall': array([0.61904762, 0.66428571, 0.65      , 0.60714286, 0.63809524])}"
      ]
     },
     "execution_count": 37,
     "metadata": {},
     "output_type": "execute_result"
    }
   ],
   "source": [
    "# logistic regression with undersampling of majority class\n",
    "logreg_under_pipe = make_pipeline(\n",
    "    StandardScaler(),\n",
    "    StandardScaler(),\n",
    "    PCA(n_components=117),\n",
    "    RandomUnderSampler(),\n",
    "    LogisticRegression(max_iter=1000)\n",
    ")\n",
    "scores = cross_validate(\n",
    "    logreg_under_pipe,\n",
    "    x,\n",
    "    y,\n",
    "    cv=5,\n",
    "    scoring={\n",
    "        \"mcc\": make_scorer(matthews_corrcoef),\n",
    "        \"precision\": make_scorer(precision_score),\n",
    "        \"recall\": make_scorer(recall_score)\n",
    "    },\n",
    "    return_train_score=True,\n",
    "    n_jobs=-1)\n",
    "scores\n"
   ]
  },
  {
   "cell_type": "code",
   "execution_count": 39,
   "metadata": {},
   "outputs": [
    {
     "data": {
      "text/plain": [
       "{'fit_time': array([128.21110916, 128.07923698, 128.10684395, 127.81513596,\n",
       "        126.87180185]),\n",
       " 'score_time': array([1.87585902, 1.96322513, 1.97696185, 2.23807001, 2.68675113]),\n",
       " 'test_mcc': array([0., 0., 0., 0., 0.]),\n",
       " 'train_mcc': array([0.09463075, 0.08194675, 0.09463118, 0.09463118, 0.12521225]),\n",
       " 'test_precision': array([0., 0., 0., 0., 0.]),\n",
       " 'train_precision': array([1., 1., 1., 1., 1.]),\n",
       " 'test_recall': array([0., 0., 0., 0., 0.]),\n",
       " 'train_recall': array([0.00952381, 0.00714286, 0.00952381, 0.00952381, 0.01666667])}"
      ]
     },
     "execution_count": 39,
     "metadata": {},
     "output_type": "execute_result"
    }
   ],
   "source": [
    "# svc\n",
    "svc_pipe = make_pipeline(\n",
    "    StandardScaler(),\n",
    "    PCA(n_components=117),\n",
    "    SVC(),\n",
    ")\n",
    "scores = cross_validate(\n",
    "    svc_pipe,\n",
    "    x,\n",
    "    y,\n",
    "    cv=5,\n",
    "    scoring={\n",
    "        \"mcc\": make_scorer(matthews_corrcoef),\n",
    "        \"precision\": make_scorer(precision_score),\n",
    "        \"recall\": make_scorer(recall_score)\n",
    "    },\n",
    "    return_train_score=True,\n",
    "    n_jobs=-1)\n",
    "scores\n"
   ]
  },
  {
   "cell_type": "code",
   "execution_count": 40,
   "metadata": {},
   "outputs": [
    {
     "data": {
      "text/plain": [
       "{'fit_time': array([136.17364001, 131.87273717, 134.59288907, 136.99522495,\n",
       "        133.17808414]),\n",
       " 'score_time': array([2.80311489, 4.17259502, 3.47928119, 2.54791689, 4.29121494]),\n",
       " 'test_mcc': array([0.18363512, 0.19855285, 0.14140722, 0.15732941, 0.22975782]),\n",
       " 'train_mcc': array([0.5728796 , 0.5795602 , 0.58276881, 0.56586819, 0.57855454]),\n",
       " 'test_precision': array([0.16412214, 0.16845878, 0.14173228, 0.16113744, 0.19512195]),\n",
       " 'train_precision': array([0.37671861, 0.38411215, 0.38862559, 0.37628385, 0.39050388]),\n",
       " 'test_recall': array([0.40952381, 0.44761905, 0.34285714, 0.32380952, 0.45714286]),\n",
       " 'train_recall': array([0.97857143, 0.97857143, 0.97619048, 0.95952381, 0.95952381])}"
      ]
     },
     "execution_count": 40,
     "metadata": {},
     "output_type": "execute_result"
    }
   ],
   "source": [
    "# svc with smote\n",
    "svc_smote_pipe = make_pipeline(\n",
    "    StandardScaler(),\n",
    "    PCA(n_components=117),\n",
    "    SMOTE(),\n",
    "    SVC(),\n",
    ")\n",
    "scores = cross_validate(\n",
    "    svc_smote_pipe,\n",
    "    x,\n",
    "    y,\n",
    "    cv=5,\n",
    "    scoring={\n",
    "        \"mcc\": make_scorer(matthews_corrcoef),\n",
    "        \"precision\": make_scorer(precision_score),\n",
    "        \"recall\": make_scorer(recall_score)\n",
    "    },\n",
    "    return_train_score=True,\n",
    "    n_jobs=-1)\n",
    "scores\n"
   ]
  },
  {
   "cell_type": "code",
   "execution_count": null,
   "metadata": {},
   "outputs": [],
   "source": [
    "# svc with undersampling\n",
    "svc_under_pipe = make_pipeline(\n",
    "    StandardScaler(),\n",
    "    PCA(n_components=117),\n",
    "    RandomUnderSampler(),\n",
    "    SVC(),\n",
    ")\n",
    "scores = cross_validate(\n",
    "    svc_under_pipe,\n",
    "    x,\n",
    "    y,\n",
    "    cv=5,\n",
    "    scoring={\n",
    "        \"mcc\": make_scorer(matthews_corrcoef),\n",
    "        \"precision\": make_scorer(precision_score),\n",
    "        \"recall\": make_scorer(recall_score)\n",
    "    },\n",
    "    return_train_score=True,\n",
    "    n_jobs=-1)\n",
    "scores\n"
   ]
  },
  {
   "cell_type": "code",
   "execution_count": 42,
   "metadata": {},
   "outputs": [
    {
     "data": {
      "text/plain": [
       "{'fit_time': array([184.09811091, 184.66878223, 184.9705379 , 183.92526817,\n",
       "        183.93814492]),\n",
       " 'score_time': array([1.86334205, 1.2965138 , 1.0988903 , 2.09017897, 1.56113505]),\n",
       " 'test_mcc': array([0.09463204, 0.06017486, 0.09463032, 0.16117074, 0.01539284]),\n",
       " 'train_mcc': array([0.35540504, 0.37412262, 0.34237922, 0.36488126, 0.3801655 ]),\n",
       " 'test_precision': array([1.        , 0.28571429, 1.        , 0.625     , 0.11111111]),\n",
       " 'train_precision': array([1., 1., 1., 1., 1.]),\n",
       " 'test_recall': array([0.00952381, 0.01904762, 0.00952381, 0.04761905, 0.00952381]),\n",
       " 'train_recall': array([0.13333333, 0.14761905, 0.12380952, 0.14047619, 0.15238095])}"
      ]
     },
     "execution_count": 42,
     "metadata": {},
     "output_type": "execute_result"
    }
   ],
   "source": [
    "# gradient boosting classifier\n",
    "gb_pipe = make_pipeline(\n",
    "    StandardScaler(),\n",
    "    PCA(n_components=117),\n",
    "    GradientBoostingClassifier(),\n",
    ")\n",
    "scores = cross_validate(\n",
    "    gb_pipe,\n",
    "    x,\n",
    "    y,\n",
    "    cv=5,\n",
    "    scoring={\n",
    "        \"mcc\": make_scorer(matthews_corrcoef),\n",
    "        \"precision\": make_scorer(precision_score),\n",
    "        \"recall\": make_scorer(recall_score)\n",
    "    },\n",
    "    return_train_score=True,\n",
    "    n_jobs=-1)\n",
    "scores\n"
   ]
  },
  {
   "cell_type": "code",
   "execution_count": 44,
   "metadata": {},
   "outputs": [
    {
     "data": {
      "text/plain": [
       "{'fit_time': array([190.48775196, 190.37495232, 190.33022285, 190.44678092,\n",
       "        190.63299727]),\n",
       " 'score_time': array([1.50466299, 1.53098488, 1.62283325, 1.49462819, 1.32593775]),\n",
       " 'test_mcc': array([0.17771473, 0.19584146, 0.2379054 , 0.16477304, 0.27436131]),\n",
       " 'train_mcc': array([0.40708659, 0.40109835, 0.40694417, 0.41327984, 0.38715822]),\n",
       " 'test_precision': array([0.14906832, 0.15254237, 0.1744186 , 0.14423077, 0.1898017 ]),\n",
       " 'train_precision': array([0.26143293, 0.26131045, 0.26060606, 0.26941363, 0.24635569]),\n",
       " 'test_recall': array([0.45714286, 0.51428571, 0.57142857, 0.42857143, 0.63809524]),\n",
       " 'train_recall': array([0.81666667, 0.79761905, 0.81904762, 0.80952381, 0.8047619 ])}"
      ]
     },
     "execution_count": 44,
     "metadata": {},
     "output_type": "execute_result"
    }
   ],
   "source": [
    "# gradient boosting classifier with smote\n",
    "gb_smote_pipe = make_pipeline(\n",
    "    StandardScaler(),\n",
    "    PCA(n_components=117),\n",
    "    SMOTE(),\n",
    "    GradientBoostingClassifier(),\n",
    ")\n",
    "scores = cross_validate(\n",
    "    gb_smote_pipe,\n",
    "    x,\n",
    "    y,\n",
    "    cv=5,\n",
    "    scoring={\n",
    "        \"mcc\": make_scorer(matthews_corrcoef),\n",
    "        \"precision\": make_scorer(precision_score),\n",
    "        \"recall\": make_scorer(recall_score)\n",
    "    },\n",
    "    return_train_score=True,\n",
    "    n_jobs=-1)\n",
    "scores\n"
   ]
  },
  {
   "cell_type": "code",
   "execution_count": 45,
   "metadata": {},
   "outputs": [
    {
     "data": {
      "text/plain": [
       "{'fit_time': array([134.103266  , 132.45036006, 118.85817099, 132.71368909,\n",
       "        134.27906418]),\n",
       " 'score_time': array([1.21686697, 1.50433683, 6.08345699, 1.22847199, 1.00822091]),\n",
       " 'test_mcc': array([0.13414558, 0.17279703, 0.2016784 , 0.13920492, 0.18399306]),\n",
       " 'train_mcc': array([0.331693  , 0.34318783, 0.33378645, 0.34710796, 0.33809786]),\n",
       " 'test_precision': array([0.1039604 , 0.11620295, 0.12420382, 0.10815603, 0.11710324]),\n",
       " 'train_precision': array([0.16443745, 0.17217176, 0.16535122, 0.17348203, 0.16848045]),\n",
       " 'test_recall': array([0.6       , 0.67619048, 0.74285714, 0.58095238, 0.72380952]),\n",
       " 'train_recall': array([0.9952381 , 0.99285714, 0.99761905, 1.        , 0.9952381 ])}"
      ]
     },
     "execution_count": 45,
     "metadata": {},
     "output_type": "execute_result"
    }
   ],
   "source": [
    "# gradient boosting classifier with undersampling\n",
    "gb_under_pipe = make_pipeline(\n",
    "    StandardScaler(),\n",
    "    PCA(n_components=117),\n",
    "    RandomUnderSampler(),\n",
    "    GradientBoostingClassifier(),\n",
    ")\n",
    "scores = cross_validate(\n",
    "    gb_under_pipe,\n",
    "    x,\n",
    "    y,\n",
    "    cv=5,\n",
    "    scoring={\n",
    "        \"mcc\": make_scorer(matthews_corrcoef),\n",
    "        \"precision\": make_scorer(precision_score),\n",
    "        \"recall\": make_scorer(recall_score)\n",
    "    },\n",
    "    return_train_score=True,\n",
    "    n_jobs=-1)\n",
    "scores\n"
   ]
  },
  {
   "cell_type": "markdown",
   "metadata": {},
   "source": [
    "It seems like Gradient Boosting with SMOTE scored the highest."
   ]
  },
  {
   "cell_type": "code",
   "execution_count": 48,
   "metadata": {},
   "outputs": [
    {
     "data": {
      "text/plain": [
       "['../data/models/gb_smote.joblib']"
      ]
     },
     "execution_count": 48,
     "metadata": {},
     "output_type": "execute_result"
    }
   ],
   "source": [
    "# train model\n",
    "gb_smote_pipe.fit(x, y)\n",
    "dump(gb_smote_pipe, \"../data/models/gb_smote.joblib\")"
   ]
  },
  {
   "cell_type": "code",
   "execution_count": null,
   "metadata": {},
   "outputs": [],
   "source": []
  }
 ],
 "metadata": {
  "kernelspec": {
   "display_name": "amath582final",
   "language": "python",
   "name": "amath582final"
  },
  "language_info": {
   "codemirror_mode": {
    "name": "ipython",
    "version": 3
   },
   "file_extension": ".py",
   "mimetype": "text/x-python",
   "name": "python",
   "nbconvert_exporter": "python",
   "pygments_lexer": "ipython3",
   "version": "3.7.5"
  }
 },
 "nbformat": 4,
 "nbformat_minor": 4
}
